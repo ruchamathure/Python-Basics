{
 "cells": [
  {
   "cell_type": "markdown",
   "id": "2bf6a679",
   "metadata": {},
   "source": [
    "\n",
    "# 1.Print statements"
   ]
  },
  {
   "cell_type": "code",
   "execution_count": null,
   "id": "63380d44",
   "metadata": {},
   "outputs": [],
   "source": [
    "print(\"Hello \" + \"World 1\")\n",
    "print(\"Hello World 2 \" * 10)"
   ]
  },
  {
   "cell_type": "markdown",
   "id": "6237675c",
   "metadata": {},
   "source": [
    "# 2. Variable assignment"
   ]
  },
  {
   "cell_type": "code",
   "execution_count": null,
   "id": "42ae4a50",
   "metadata": {},
   "outputs": [],
   "source": [
    "price = 10                                  # integer data type\n",
    "rate = 5.9                                  # float data type\n",
    "name = 'Rucha'                              # string data type\n",
    "is_published = True                         # _ to separate words in variable name; T capital in True for keyword (False); boolean data type\n",
    "print(price, rate, is_published, name)"
   ]
  },
  {
   "cell_type": "markdown",
   "id": "592b616b",
   "metadata": {},
   "source": [
    "# 3. Input - convert number input to int data type to use as value; eg: i/p - '1927'"
   ]
  },
  {
   "cell_type": "code",
   "execution_count": null,
   "id": "a503ce61",
   "metadata": {},
   "outputs": [],
   "source": [
    "name1 = input(str('What is your name? '))\n",
    "colour = input(str('What is your favorite colour? '))\n",
    "print(name1 + ' likes ' + colour)"
   ]
  },
  {
   "cell_type": "code",
   "execution_count": null,
   "id": "7fa47921",
   "metadata": {},
   "outputs": [],
   "source": [
    "name = 'John Smith'\n",
    "age = 20\n",
    "new_patient = True\n",
    "print(\"Name: \" + name + \" Age: \" + str(age) + \" New Patient?: \" + str(new_patient))  # data types converted - int to str and bool to str\n",
    "print(\"Name:\", name, \"Age:\", age, \"New Patient?:\", new_patient)"
   ]
  },
  {
   "cell_type": "markdown",
   "id": "3079d3c7",
   "metadata": {},
   "source": [
    "# 4.Data Type conversion"
   ]
  },
  {
   "cell_type": "code",
   "execution_count": null,
   "id": "4ded61e9",
   "metadata": {},
   "outputs": [],
   "source": [
    "lbs = int(input('Weight in pounds:'))   #see section 3 too\n",
    "kilo = lbs * 0.45359237\n",
    "print(\"Weight in kilograms: \", kilo)"
   ]
  },
  {
   "cell_type": "markdown",
   "id": "95243dba",
   "metadata": {},
   "source": [
    "# 5. Strings"
   ]
  },
  {
   "cell_type": "code",
   "execution_count": null,
   "id": "26c9c10b",
   "metadata": {},
   "outputs": [],
   "source": [
    "course = \"Python's Basics for Beginners\"      # \" \" used for string to include ' in text\n",
    "print(course)\n",
    "course1 = 'Python for \"Beginners\"'            # ' ' used for string to include \" in text\n",
    "print(course1)\n",
    "course2 = '''             3  quotes\n",
    "                for \n",
    "            multiple lines\n",
    "                in text'''\n",
    "print(course2)"
   ]
  },
  {
   "cell_type": "markdown",
   "id": "20f7ba8c",
   "metadata": {},
   "source": [
    "# 6. Slicing basics"
   ]
  },
  {
   "cell_type": "code",
   "execution_count": null,
   "id": "7a04bd3d",
   "metadata": {},
   "outputs": [],
   "source": [
    "course3 = 'Python Basics'\n",
    "print(course3[0])\n",
    "print(course3[0-1])\n",
    "print(course3[-1])\n",
    "print(course3[0:3])\n",
    "print(course3[0:-1])\n",
    "print(course3[:-1])\n",
    "print(course3[0:])\n",
    "print(course3[:])"
   ]
  },
  {
   "cell_type": "markdown",
   "id": "d639e362",
   "metadata": {},
   "source": [
    "# 7. Formatted strings"
   ]
  },
  {
   "cell_type": "code",
   "execution_count": null,
   "id": "91041284",
   "metadata": {},
   "outputs": [],
   "source": [
    "first = 'Rucha'\n",
    "last = 'Mathure'\n",
    "    #aim - print - Rucha [Mathure] is a girl\n",
    "    #method 1 -\n",
    "message = first + ' [' + last + '] is a girl'\n",
    "print(message)\n",
    "    #method 2 -\n",
    "msg = f'{first} [{last}] is a girl'     # prefix string with f' ' and use {} as placeholders for variables\n",
    "print(msg)"
   ]
  },
  {
   "cell_type": "markdown",
   "id": "db2eb096",
   "metadata": {},
   "source": [
    "# 8. String methods"
   ]
  },
  {
   "cell_type": "code",
   "execution_count": null,
   "id": "a57de140",
   "metadata": {},
   "outputs": [],
   "source": [
    "string = 'StrIng methOds'\n",
    "print(len(string))                      #print and len are general purpose functions\n",
    "print(string.lower())                   #.upper, .lower, .capitalize, .count, etc are functions that\n",
    "print(string.upper())                   #belong to or are specific to the variable string, hence they are called methods\n",
    "print(string.capitalize())\n",
    "print(string.find('I'))                 #find method returns index of first appearance of character in string; is case sensitive\n",
    "print(string.find('j'))\n",
    "print(string.find('methOds'))\n",
    "print(string.replace('methOds','methODs'))  #replace method is case sensitive\n",
    "print('methOds' in string)                  #boolean expression of using 'in' operator used to check if something is part of the text; is case sensitives\n",
    "print(string)                               #methods from above don't change the original variable"
   ]
  },
  {
   "cell_type": "markdown",
   "id": "d449d6a6",
   "metadata": {},
   "source": [
    "# 9. Arithmetic operations"
   ]
  },
  {
   "cell_type": "code",
   "execution_count": null,
   "id": "abfaa4c2",
   "metadata": {},
   "outputs": [],
   "source": [
    "a = 10\n",
    "b = 3\n",
    "print(a+b)\n",
    "print(a-b)\n",
    "print(a*b)\n",
    "print(a/b)                                  #regular division\n",
    "print(a//b)                                 #floor division - gives integer answer\n",
    "print(a%b)                                  #% (modulus operator) gives remainder of division of two numbers\n",
    "print(a**b)                                 #exponent - raised to power - **\n",
    "a += 5\n",
    "b -= 1\n",
    "print(a,b)                                    # += - increment, -= - decrement"
   ]
  },
  {
   "cell_type": "markdown",
   "id": "9b353564",
   "metadata": {},
   "source": [
    "# 10. Operator precedence"
   ]
  },
  {
   "cell_type": "code",
   "execution_count": null,
   "id": "c50343ed",
   "metadata": {},
   "outputs": [],
   "source": [
    "x = (10 + 1) * 3 ** 2 + 1\n",
    "print(x)\n",
    "#1.parentheses (10+1) = 11\n",
    "#2. exponentiation 3 ** 2 = 9\n",
    "#3. multiplication or division 11 * 9 = 99\n",
    "#4. addition or subtraction 99 + 1 = 100"
   ]
  },
  {
   "cell_type": "markdown",
   "id": "ee3a1296",
   "metadata": {},
   "source": [
    "# 11. Math functions"
   ]
  },
  {
   "cell_type": "code",
   "execution_count": null,
   "id": "ade9ed9b",
   "metadata": {},
   "outputs": [],
   "source": [
    "import math\n",
    "print(math.ceil(2.9))                       #ceil function in math module gives ceiling value of decimal (upper round number)\n",
    "print(math.floor(2.9))                      #floor function in math module gives floor value of decimal (lower round number)\n",
    "print(math.sqrt(69))\n",
    "y = 2.9\n",
    "print(round(y))                             #round function gives round value\n",
    "print(abs(-2.9))                            #abs function gives absolute value - positive value of input"
   ]
  },
  {
   "cell_type": "markdown",
   "id": "70c2e60b",
   "metadata": {},
   "source": [
    "# 12. IF, ELIF Statments"
   ]
  },
  {
   "cell_type": "code",
   "execution_count": null,
   "id": "278d9d60",
   "metadata": {},
   "outputs": [],
   "source": [
    "house = 1000000\n",
    "credit = False\n",
    "if credit:\n",
    "    print(\"Downpayment (10%): = $\",(0.1*house))\n",
    "else: print(\"Downpayment (20%): $\", (0.2*house))"
   ]
  },
  {
   "cell_type": "code",
   "execution_count": null,
   "id": "d4c34b91",
   "metadata": {},
   "outputs": [],
   "source": [
    "#simulate - if its a hot day, drink plenty of water. If it's a cold day, wear warm clothes. If it's neither hot, nor cold, it's a lovely day.\n",
    "is_hot = False\n",
    "is_cold = False\n",
    "if is_hot:\n",
    "    print(\"It's a hot day.\")\n",
    "    print(\"Drink plenty of water\")\n",
    "elif is_cold:\n",
    "    print(\"It's a cold day\")\n",
    "    print(\"Wear warm clothes\")\n",
    "else: print(\"It's a lovely day\")\n",
    "print(\"Enjoy your day\")"
   ]
  },
  {
   "cell_type": "markdown",
   "id": "495c6f78",
   "metadata": {},
   "source": [
    "# 13. Logical Operators\n",
    "\n",
    "AND - both need to be true = true (true, true = true)  \n",
    "OR - any one can be true = true (false, false = false)  \n",
    "NOT - inverses values"
   ]
  },
  {
   "cell_type": "markdown",
   "id": "e03cdf3c",
   "metadata": {},
   "source": [
    "**Eg 1. If a person has good credit *and* is employed, they can get a loan.**\n",
    "\n",
    "Case 1: does not have good credit, is unemployed. (00 --> 0)   \n",
    "Case 2: does not have good credit, is employed. (01 --> 0)  \n",
    "Case 3: has good credit, is unemployed. (10 --> 0)  \n",
    "Case 4: has goood credit, is employed. (11 --> 1)  "
   ]
  },
  {
   "cell_type": "code",
   "execution_count": null,
   "id": "3c6107d5",
   "metadata": {},
   "outputs": [],
   "source": [
    "# Case 1\n",
    "goodcredit1 = False\n",
    "employed1 = False\n",
    "\n",
    "if goodcredit1 and employed1:\n",
    "  print(\"Case 1: Eligible for loan\")\n",
    "else:\n",
    "  print(\"Case 1: Ineligible for loan\")\n",
    "\n",
    "# Case 2\n",
    "goodcredit2 = False\n",
    "employed2 = True\n",
    "\n",
    "if goodcredit2 and employed2:\n",
    "  print(\"Case 2: Eligible for loan\")\n",
    "else:\n",
    "  print(\"Case 2: Ineligible for loan\")\n",
    "\n",
    "# Case 3\n",
    "goodcredit3 = True\n",
    "employed3 = False\n",
    "\n",
    "if goodcredit3 and employed3:\n",
    "  print(\"Case 3: Eligible for loan\")\n",
    "else:\n",
    "  print(\"Case 3: Ineligible for loan\")\n",
    "\n",
    "# Case 4\n",
    "goodcredit4 = True\n",
    "employed4 = True\n",
    "\n",
    "if goodcredit4 and employed4:\n",
    "  print(\"Case 4: Eligible for loan\")\n",
    "else:\n",
    "  print(\"Case 4: Ineligible for loan\")"
   ]
  },
  {
   "cell_type": "markdown",
   "id": "38bafc49",
   "metadata": {},
   "source": [
    "**Eg 2: If person is either employed *or* has good creedit, they can get a loan.**\n",
    "\n",
    "Case 1: does not have good credit, is unemployed. (00 --> 0)  \n",
    "Case 2: does not have good credit, is employed. (01 --> 1)  \n",
    "Case 3: has good credit, is unemployed. (10 --> 1)  \n",
    "Case 4: has goood credit, is employed. (11 --> 1)  "
   ]
  },
  {
   "cell_type": "code",
   "execution_count": null,
   "id": "38ded394",
   "metadata": {},
   "outputs": [],
   "source": [
    "# Case 1\n",
    "goodcredit1 = False\n",
    "employed1 = False\n",
    "\n",
    "if goodcredit1 or employed1:\n",
    "  print(\"Case 1: Eligible for loan\")\n",
    "else:\n",
    "  print(\"Case 1: Ineligible for loan\")\n",
    "\n",
    "# Case 2\n",
    "goodcredit2 = False\n",
    "employed2 = True\n",
    "\n",
    "if goodcredit2 or employed2:\n",
    "  print(\"Case 2: Eligible for loan\")\n",
    "else:\n",
    "  print(\"Case 2: Ineligible for loan\")\n",
    "\n",
    "# Case 3\n",
    "goodcredit3 = True\n",
    "employed3 = False\n",
    "\n",
    "if goodcredit3 or employed3:\n",
    "  print(\"Case 3: Eligible for loan\")\n",
    "else:\n",
    "  print(\"Case 3: Ineligible for loan\")\n",
    "\n",
    "# Case 4\n",
    "goodcredit4 = True\n",
    "employed4 = True\n",
    "\n",
    "if goodcredit4 or employed4:\n",
    "  print(\"Case 4: Eligible for loan\")\n",
    "else:\n",
    "  print(\"Case 4: Ineligible for loan\")"
   ]
  },
  {
   "cell_type": "markdown",
   "id": "23e9c2e4",
   "metadata": {},
   "source": [
    "**Eg 3. If a person is employed *and* doesn't have a criminal record, then they are eligible for a loan.**"
   ]
  },
  {
   "cell_type": "code",
   "execution_count": null,
   "id": "a2241752",
   "metadata": {},
   "outputs": [],
   "source": [
    "eemployed = True\n",
    "criminalrecord = True\n",
    "\n",
    "if eemployed and not criminalrecord:\n",
    "  print(\"Eligible for loan\")\n",
    "else:\n",
    "  print(\"Ineligible for loan\")\n",
    "\n",
    "\n",
    "eeemployed = True\n",
    "ccriminalrecord = False\n",
    "\n",
    "if eeemployed and not ccriminalrecord:\n",
    "  print(\"Eligible for loan\")\n",
    "else:\n",
    "  print(\"Ineligible for loan\")"
   ]
  },
  {
   "cell_type": "markdown",
   "id": "9fb8d4f5",
   "metadata": {},
   "source": [
    "# 14. Comparison operators\n",
    "\n",
    "1. Greater than >\n",
    "2. Less than <\n",
    "3. Greater than equal to >=\n",
    "4. Less than equal to <=\n",
    "5. Equal to ==\n",
    "6. Not equal to !="
   ]
  },
  {
   "cell_type": "markdown",
   "id": "6631c764",
   "metadata": {},
   "source": [
    "**Eg.1: If the temperature is greater than 30, then it is a hot day. If the temperature is less than 30 it is a cold day. Otherwise it's neither a hot day, nor a cold day.**"
   ]
  },
  {
   "cell_type": "code",
   "execution_count": null,
   "id": "b151f5d2",
   "metadata": {},
   "outputs": [],
   "source": [
    "def day (temperature:float):\n",
    "  if temperature > 30:\n",
    "    print(\"It's a hot day.\")\n",
    "  elif temperature < 30:\n",
    "    print(\"IT's a cold day.\")\n",
    "  elif temperature == 30:\n",
    "    print(\"It's neither a hot day, nor a cold day.\")\n",
    "    return\n",
    "\n",
    "day(45.5)\n",
    "day(28.7)\n",
    "day(30)"
   ]
  },
  {
   "cell_type": "markdown",
   "id": "227c4c7b",
   "metadata": {},
   "source": [
    "**Eg. 2: If name is less than 3 characters long, print name has to be at least 3 characters long.\n",
    "If name is more than 50 characters long, print name can be a maximum of 50 characters.\n",
    "Otherwise, otherwise print name looks good!**"
   ]
  },
  {
   "cell_type": "code",
   "execution_count": null,
   "id": "63fefb36",
   "metadata": {},
   "outputs": [],
   "source": [
    "def name6 (name5):\n",
    "  if len(name5) < 3:\n",
    "    print(\"Name must be atleast 3 characters.\")\n",
    "  elif len(name5) > 50:\n",
    "    print(\"Name can be a maximum of 50 characters.\")\n",
    "  else:\n",
    "    print(\"Name looks good\")\n",
    "    return\n",
    "\n",
    "name6 ('bo')\n",
    "name6 ('ric')\n",
    "name6 ('asdfcgvhbjnkmlpoikuyjhtgrfedwmcjoebsgqwouiqdnxwjkaclsddfmbhjlewawidjq0wodjcesaiknvkredalsbnvd')\n",
    "name6 ('rick')"
   ]
  },
  {
   "cell_type": "markdown",
   "id": "47781a08",
   "metadata": {},
   "source": [
    "**Eg 4. Weight converter**"
   ]
  },
  {
   "cell_type": "code",
   "execution_count": null,
   "id": "940a5bb2",
   "metadata": {},
   "outputs": [],
   "source": [
    "weight = int(input(\"Enter weight: \"))                       # Integer input - 'input()' later, int() first\n",
    "lbsorkg = input(str(\"(L)bs or (K)gs?: \"))                   # String input - 'input()' first, str() later\n",
    "\n",
    "#if lbsorkg =='l' or lbsorkg == 'L':\n",
    "if lbsorkg.upper() == 'L':\n",
    "  print(\"You are\", weight*0.45359237, \"kilos\")\n",
    "else:\n",
    "  #if lbsorkg =='k' or lbsorkg =='K':\n",
    "  if lbsorkg.upper() == 'K':\n",
    "    print(\"You are\", weight/0.45359237, \"pounds\")"
   ]
  },
  {
   "cell_type": "markdown",
   "id": "2d2da1ea",
   "metadata": {},
   "source": [
    "# 15. While loop\n",
    "\n",
    "Used to execute a block of code multiple times"
   ]
  },
  {
   "cell_type": "code",
   "execution_count": null,
   "id": "e754755e",
   "metadata": {},
   "outputs": [],
   "source": [
    "i = 3\n",
    "while i <= 27:\n",
    "    print('*'* i)\n",
    "    i = i + 3         # Increment/Decrement necessary to avoid infinite loop since the initial value of i is 3 which will always be less than 27.\n",
    "print('Done')    \n",
    "    "
   ]
  },
  {
   "cell_type": "markdown",
   "id": "4f913ee7",
   "metadata": {},
   "source": [
    "**Eg 1. Guessing game**\n",
    "We have a secret number that the user has to guess. User has 3 tries."
   ]
  },
  {
   "cell_type": "code",
   "execution_count": null,
   "id": "7e620391",
   "metadata": {},
   "outputs": [],
   "source": [
    "secret = 4        \n",
    "j = 0        # Guess count\n",
    "k = 3        # Guess limit\n",
    "while j < k : \n",
    "    guess = int(input(\"Guess:\"))\n",
    "    j += 1  # Increment guess count\n",
    "    if guess == secret:\n",
    "        print(\"You won!\")\n",
    "        break  # break used so that if one of the guesses is correct, the program doesn't ask the user to guess again\n",
    "else: print(\"Sorry, you failed\")\n",
    "\n",
    "        "
   ]
  },
  {
   "cell_type": "markdown",
   "id": "5ead3e7b",
   "metadata": {
    "slideshow": {
     "slide_type": "-"
    }
   },
   "source": [
    "**Eg 2. Car Game**"
   ]
  },
  {
   "cell_type": "code",
   "execution_count": null,
   "id": "c905e51f",
   "metadata": {},
   "outputs": [],
   "source": [
    "command = \"\"\n",
    "started = False\n",
    "while command != \"quit\":\n",
    "    command = input(\">\").lower()\n",
    "    if command == \"start\":\n",
    "        if started == True:\n",
    "            print(\"Car is already runing\")\n",
    "        else: \n",
    "            started = True\n",
    "            print(\"Car started\")\n",
    "    elif command == \"stop\":\n",
    "        if started == False:\n",
    "            print(\"Car is already stopped\")\n",
    "        else: \n",
    "            started = False\n",
    "            print (\"Car stopped\")\n",
    "    elif command == \"help\":\n",
    "        print('''Start - to start the car\n",
    "Stop - to stop the car\n",
    "Quit - to quit''')\n",
    "    elif command == \"quit\":\n",
    "        break\n",
    "else: print(\"Sorry, I don't understand that command\")"
   ]
  },
  {
   "cell_type": "markdown",
   "id": "a8be2c2c",
   "metadata": {},
   "source": [
    "# 16. For loop\n",
    "\n",
    "Used to iterate over items of a collection"
   ]
  },
  {
   "cell_type": "code",
   "execution_count": null,
   "id": "82c11cc0",
   "metadata": {},
   "outputs": [],
   "source": [
    "prices = [10,20,30]\n",
    "total = 0\n",
    "for price in prices: \n",
    "    total += price\n",
    "    print(f\"Current Total: {total}\")\n",
    "print(f\"Final Total: {total}\")"
   ]
  },
  {
   "cell_type": "markdown",
   "id": "e3ff9102",
   "metadata": {},
   "source": [
    "**Eg 1. Co-ordinates**"
   ]
  },
  {
   "cell_type": "code",
   "execution_count": null,
   "id": "dd910067",
   "metadata": {},
   "outputs": [],
   "source": [
    "for x in range(4):\n",
    "    for y in range (3):\n",
    "        print(f\"({x},{y})\")"
   ]
  },
  {
   "cell_type": "markdown",
   "id": "6de6a409",
   "metadata": {},
   "source": [
    "**Eg 2.**"
   ]
  },
  {
   "cell_type": "code",
   "execution_count": null,
   "id": "cc212cad",
   "metadata": {},
   "outputs": [],
   "source": [
    "numbers = [5,2,5,2,2]\n",
    "for x_count in numbers:\n",
    "    output = ''\n",
    "    for i in range(x_count):    #using range() function to generate a sequence of numbers from 0 to x_count. So first x_count is 5. So inner loop will run 5 times & for each time it wil print an 'x'\n",
    "        output += 'x'\n",
    "    print(output)"
   ]
  },
  {
   "cell_type": "code",
   "execution_count": null,
   "id": "6e0fbfed",
   "metadata": {},
   "outputs": [],
   "source": [
    "numbers = [2,2,2,2,5]\n",
    "for item in numbers:\n",
    "    output = ''\n",
    "    for i in range(item):\n",
    "        output += 'x'\n",
    "    print(output)"
   ]
  },
  {
   "cell_type": "markdown",
   "id": "743ccfab",
   "metadata": {},
   "source": [
    "# 17. Lists\n",
    "\n",
    "Lists are denoted by square brackets - [ ]  \n",
    "Lists are a *ordered* collection of different types of objects - ['a', 1, 2, 'b']  \n",
    "Lists are mutable - the values of item at different indices can be changed  \n",
    "Lists can be increased or decreased.  \n",
    "#6 Slicing applies here too.\n",
    "\n",
    "\n",
    "**Eg 1. Find largest number in a list**"
   ]
  },
  {
   "cell_type": "code",
   "execution_count": null,
   "id": "adeb1abf",
   "metadata": {},
   "outputs": [],
   "source": [
    "list1 = [74, 2, 38, 34, 52, 10, 10, 43,72, 46, 67, 84, 39, 157, 16, 48, 73, 60, 100]\n",
    "largest = list1[0]\n",
    "for i in list1:\n",
    "    if i > largest:\n",
    "        largest = i\n",
    "print(f\"Largest: {largest}\")"
   ]
  },
  {
   "cell_type": "markdown",
   "id": "2f09618b",
   "metadata": {},
   "source": [
    "### List comprehensions:"
   ]
  },
  {
   "cell_type": "code",
   "execution_count": null,
   "id": "f60500e8",
   "metadata": {},
   "outputs": [],
   "source": [
    "nums1 = [0, 1, 2, 3, 4]\n",
    "squares = []\n",
    "for x in nums:\n",
    "    squares.append(x ** 2)\n",
    "print(squares)   # Prints [0, 1, 4, 9, 16]\n",
    "\n",
    "## OR \n",
    "\n",
    "even_squares = [x ** 2 for x in nums if x % 2 == 0]\n",
    "print(even_squares)  # Prints \"[0, 4, 16]\""
   ]
  },
  {
   "cell_type": "markdown",
   "id": "7dba49f0",
   "metadata": {},
   "source": [
    "# 18. 2D Lists"
   ]
  },
  {
   "cell_type": "code",
   "execution_count": null,
   "id": "1989d59a",
   "metadata": {},
   "outputs": [],
   "source": [
    "matrix = [ [1, 2, 3], [4, 5, 6], [7, 8, 9] ]\n",
    "print(matrix)\n",
    "\n",
    "for i in range(len(matrix)):\n",
    "    print(matrix[i])            #access individual item in a 2d list (which itself is a list)\n",
    "    \n",
    "print(matrix[0][1])             #acess items in each sub-list; 0th row & 0,1st col.\n",
    "\n",
    "matrix [2] = ['a','b','c']\n",
    "print(matrix)\n",
    "\n",
    "matrix [1][1] = 'r'\n",
    "print(matrix)"
   ]
  },
  {
   "cell_type": "markdown",
   "id": "b73bc21e",
   "metadata": {},
   "source": [
    "**List Methods:**"
   ]
  },
  {
   "cell_type": "code",
   "execution_count": null,
   "id": "36b3704e",
   "metadata": {},
   "outputs": [],
   "source": [
    "matrix.append(['j','k','l'])        # .append method - to add item to end of list\n",
    "print(matrix)\n",
    "\n",
    "matrix.insert(0, [3,2,1])           # .insert method - to add item at ith index value (not just the end)\n",
    "print(matrix)\n",
    "\n",
    "matrix.remove([4,'r',6])            # .remove method - to delete item from list at whatever index it exists\n",
    "print(matrix)\n",
    "\n",
    "matrix.pop()                        # .pop method - used to delete last item of list\n",
    "print(matrix)\n",
    "\n",
    "matrix.index(['a','b','c'])         # .index method - used to find index of first appearance of item in list. Returns ValueError if item is not found\n",
    "print(['a','b','c'] in matrix)      # in operator returns true/false depending on whether item exists in the list or not. It's safer to use thaan .index method as it does not generate an error\n",
    "\n",
    "matrix.clear()                      # .clear method - used to empty the list\n",
    "print(matrix)\n",
    "\n",
    "\n",
    "numbers = [5,6,7,8,8,3,4,9,2]\n",
    "print(numbers.count(8))             # .count method - to count number of appearances of item in list\n",
    "\n",
    "numbers.sort()                      # .sort method - to sort list in ascending order; sorts list in place\n",
    "print(numbers)\n",
    "\n",
    "numbers.reverse()\n",
    "print(numbers)                      # .sort then .revers methods - to sort in descending order\n",
    "\n",
    "numbers2 = numbers.copy()           # .copy method - used to copy list\n",
    "numbers.append(10)\n",
    "print(numbers, numbers2)\n"
   ]
  },
  {
   "cell_type": "markdown",
   "id": "7796e690",
   "metadata": {},
   "source": [
    "**Eg 2. Remove duplicate in a list**"
   ]
  },
  {
   "cell_type": "code",
   "execution_count": null,
   "id": "679a1cc4",
   "metadata": {},
   "outputs": [],
   "source": [
    "unique = []\n",
    "for i in numbers:\n",
    "    if i not in unique:\n",
    "        unique.append(i)\n",
    "print(unique)"
   ]
  },
  {
   "cell_type": "markdown",
   "id": "c4a16f6f",
   "metadata": {},
   "source": [
    "# 19. Tuples\n",
    "\n",
    "Tuples are denoted by parenthesis - ( ).   \n",
    "Tuples are like a list - ordered collection of different types of objects - ('a', 1, 2, 'b)  \n",
    "Tuples are immutable - the values of items at any index can't be changed.  -- Used to store fixed values -- .index() method  \n",
    "Length of tuples can't be changed either.  -- .count() method  \n",
    "#6 Slicing applies here too.  "
   ]
  },
  {
   "cell_type": "code",
   "execution_count": null,
   "id": "c8252e0d",
   "metadata": {},
   "outputs": [],
   "source": [
    "cordinates = (0,1,2,1)\n",
    "print(cordinates.count(1))\n",
    "print(cordinates.index(1))\n",
    "x,y,z,a = cordinates               # Unpacking -- unpacking is also applicable to lists\n",
    "print(f\"x({x}) + y({y}) + z({z}) = \", x+y+z) "
   ]
  },
  {
   "cell_type": "markdown",
   "id": "4c1f3156",
   "metadata": {},
   "source": [
    "#### A tuple is quite similar to a list. Although they have one striking difference - tuples can be used as keys in dictionaries and as elements of sets, while lists cannot. "
   ]
  },
  {
   "cell_type": "code",
   "execution_count": null,
   "id": "1f32ad08",
   "metadata": {},
   "outputs": [],
   "source": [
    "examples = {(x, x**2): x**3 for x in range(6)}     # using tuples as keys\n",
    "print (examples)\n",
    "print(examples[2,4])"
   ]
  },
  {
   "cell_type": "markdown",
   "id": "62c294a6",
   "metadata": {},
   "source": [
    "# 20. Dictionaries\n",
    "\n",
    "Dictionaries are dontes by curly brackets - {}.  \n",
    "They store information in a key-value format.  \n",
    "Keys have to be unique. They have to be mentioned in apostrophes \"\".   \n",
    "Values can be of any data type.  \n"
   ]
  },
  {
   "cell_type": "code",
   "execution_count": null,
   "id": "57621782",
   "metadata": {},
   "outputs": [],
   "source": [
    "customer = {\"name\": \"John Smith\", \"age\":30, \"is_verified\": True}\n",
    "print(customer[\"name\"])\n",
    "print(customer[\"age\"])\n",
    "print(customer[\"is_verified\"])\n",
    "print(customer.get(\"birthdate\"))                           # .get() method doesn't give error if key doesn't exist\n",
    "customer[\"id\"] = \"js19195\"                                 # One way to add keys & values\n",
    "print(customer.get(\"birthdate\", \"19 January 1995\"))        #another way to add keys & values\n",
    "print(customer.get(\"id\"))"
   ]
  },
  {
   "cell_type": "markdown",
   "id": "a4b6b9dc",
   "metadata": {},
   "source": [
    "### Dictionary comprehensions: "
   ]
  },
  {
   "cell_type": "code",
   "execution_count": null,
   "id": "823526c6",
   "metadata": {},
   "outputs": [],
   "source": [
    "nums = [0, 1, 2, 3, 4]\n",
    "even_num_to_square = {x: x ** 2 for x in nums if x % 2 == 0}\n",
    "print(even_num_to_square)  # Prints \"{0: 0, 2: 4, 4: 16}\""
   ]
  },
  {
   "cell_type": "markdown",
   "id": "43c5f821",
   "metadata": {},
   "source": [
    "**Eg 1: Convert digits to their respective spelled out words.**"
   ]
  },
  {
   "cell_type": "code",
   "execution_count": null,
   "id": "9036da4a",
   "metadata": {},
   "outputs": [],
   "source": [
    "numbers = {\"1\": \"one\", \"2\": \"two\", \"3\": \"three\", \"4\": \"four\", \"5\": \"five\", \"6\": \"six\", \"7\": \"seven\", \"8\": \"eight\"}#, \"9\": \"nine\"}\n",
    "phone = input(\"Phone:\")\n",
    "output = \"\"\n",
    "for ch in phone:\n",
    "    output += numbers.get(ch, \"!\") + \" \"\n",
    "print(output)"
   ]
  },
  {
   "cell_type": "markdown",
   "id": "baa31374",
   "metadata": {},
   "source": [
    "**Eg 2: Emoji converter**"
   ]
  },
  {
   "cell_type": "code",
   "execution_count": null,
   "id": "454ad850",
   "metadata": {},
   "outputs": [],
   "source": [
    "message = input(\">\")\n",
    "words = message.split(' ')          #.split() method uses characters between '' as separators and return a list of items\n",
    "print(words)\n",
    "emoji = { \":)\":\"😊\", \":(\":\"☹️\"}\n",
    "output = \"\"\n",
    "for word in words:\n",
    "    output += emoji.get(word, word) + \" \"\n",
    "print(output)\n",
    "print(emoji)"
   ]
  },
  {
   "cell_type": "markdown",
   "id": "00bb458b",
   "metadata": {},
   "source": [
    "# 21. Sets\n",
    "\n",
    "Sets are denoted by curly brackets - {}  \n",
    "Sets are unordered collections of distinct elements  - {'cat', 'dog'}  \n",
    "Sets are iterable and mutable with no duplicate elements."
   ]
  },
  {
   "cell_type": "code",
   "execution_count": 1,
   "id": "4562e601",
   "metadata": {},
   "outputs": [
    {
     "name": "stdout",
     "output_type": "stream",
     "text": [
      "True\n",
      "False\n",
      "True\n",
      "{'cat', 'cheetah', 'tiger', 'dog', 'lion', 'fish'}\n",
      "6\n",
      "{'cat', 'cheetah', 'tiger', 'dog', 'lion', 'fish'}\n",
      "6\n",
      "5\n",
      "{'cheetah', 'tiger', 'dog', 'lion', 'fish'}\n"
     ]
    }
   ],
   "source": [
    "animals = {\"cat\", \"dog\", \"lion\", \"tiger\", \"cheetah\"}\n",
    "print('cat' in animals)   # Check if an element is in a set; prints \"True\"\n",
    "print('fish' in animals)  # prints \"False\"\n",
    "animals.add('fish')       # Add an element to a set\n",
    "print('fish' in animals)  # Prints \"True\"\n",
    "print(animals)\n",
    "print(len(animals))       # Number of elements in a set; prints \"6\"\n",
    "animals.add('cat')        # Adding an element that is already in the set does nothing\n",
    "print(animals)\n",
    "print(len(animals))       # Prints \"6\"\n",
    "animals.remove('cat')     # Remove an element from a set\n",
    "print(len(animals))       # Prints \"5\"\n",
    "print(animals)"
   ]
  },
  {
   "cell_type": "markdown",
   "id": "5de93009",
   "metadata": {},
   "source": [
    "### Loops in Sets : "
   ]
  },
  {
   "cell_type": "code",
   "execution_count": null,
   "id": "6d8ad022",
   "metadata": {},
   "outputs": [],
   "source": [
    "for idx, animal in enumerate(animals):\n",
    "    print(\"#%d: %s \" % (idx+1, animal))"
   ]
  },
  {
   "cell_type": "markdown",
   "id": "a4981b09",
   "metadata": {},
   "source": [
    "### Set comprehensions:"
   ]
  },
  {
   "cell_type": "code",
   "execution_count": null,
   "id": "561ddc5e",
   "metadata": {},
   "outputs": [],
   "source": [
    "from math import sqrt\n",
    "nums = {int(sqrt(x)) for x in range(30)}\n",
    "print(nums)  # Prints \"{0, 1, 2, 3, 4, 5}\""
   ]
  },
  {
   "cell_type": "markdown",
   "id": "4d45b7cb",
   "metadata": {},
   "source": [
    "### Set methods: "
   ]
  },
  {
   "cell_type": "code",
   "execution_count": 5,
   "id": "5a2b4f2a",
   "metadata": {},
   "outputs": [
    {
     "name": "stdout",
     "output_type": "stream",
     "text": [
      "{'A', 'C', 'B'}\n",
      "{'A', 'C', 'B', 'D'}\n",
      "{'E', 'F', 'G', 'A', 'C', 'B', 'D'}\n",
      "<class 'set'>\n",
      "{'A', 'C', 'B', 'D'}\n",
      "{'A', 'C', 'B', 'D'}\n",
      "{'E', 'G', 'F'}\n"
     ]
    }
   ],
   "source": [
    "people = { \"A\", \"B\", \"C\"}\n",
    "print(people)\n",
    "people.add(\"D\")                       # Add elements to a set\n",
    "print(people)\n",
    "\n",
    "people1 = {'E', 'F', 'G'}\n",
    "\n",
    "all = people.union(people1)\n",
    "print(all)\n",
    "print(type(all))\n",
    "\n",
    "common = all.intersection(people)     # Find common elements amongst sets. Can also be acheived by & operator.\n",
    "print(common)\n",
    "\n",
    "common1 = all & people\n",
    "print(common1)\n",
    "\n",
    "difference = all.difference(people)  # Find difference among sets\n",
    "print(difference)"
   ]
  },
  {
   "cell_type": "markdown",
   "id": "4acf630f",
   "metadata": {},
   "source": [
    "# 22. Functions\n",
    "\n",
    "Functions are a reusable block of code.  \n",
    "Functions start with keyword 'def' for define.  \n",
    "Functions end with :. In Python, ':' indicates a block of code. So all text under it is indented.  \n",
    "Functions can take parameters or arguments which act like local variables in the function."
   ]
  },
  {
   "cell_type": "code",
   "execution_count": null,
   "id": "9e923666",
   "metadata": {},
   "outputs": [],
   "source": [
    "def greet(name):                         # 'name' is parameter (placeholder defined in the function to take information)\n",
    "    print(f'Hey {name}!')\n",
    "    print(\"Welcome aboard\")\n",
    "    \n",
    "print(\"Start\")\n",
    "print(greet(\"Rucha\"))                    #'Rucha' is argument (actual piece of information supplied) \n",
    "#The above statement prints the text and then also returns 'None'. This happens because first the greet() function\n",
    "#is executed with \"Rucha\" as the argument. This prints the text. Then, every function returns 'None' (absence of \n",
    "#an object) in the absence of a return statement. So, this 'None' becomes the argument for the print() statement.\n",
    "print(\"Middle\")\n",
    "greet(\"Archit\")                          #'Archit' is argument (actual piece of information supplied)\n",
    "print(\"Finish\")"
   ]
  },
  {
   "cell_type": "markdown",
   "id": "8c6ff387",
   "metadata": {},
   "source": [
    "**Eg 1: Define a function for the emoji converter example from above.**"
   ]
  },
  {
   "cell_type": "code",
   "execution_count": null,
   "id": "b016aa16",
   "metadata": {},
   "outputs": [],
   "source": [
    "def emoji_convert(message):\n",
    "    words = message.split(' ')          #.split() method uses characters between '' as separators and return a list of items\n",
    "    #print(words)\n",
    "    emoji = { \":)\":\"😊\", \":(\":\"☹️\"}\n",
    "    output = \"\"\n",
    "    for word in words:\n",
    "        output += emoji.get(word, word) + \" \"\n",
    "    return output\n",
    "\n",
    "\n",
    "message = input(\">\")\n",
    "print(emoji_convert(message))"
   ]
  },
  {
   "cell_type": "markdown",
   "id": "fcba1802",
   "metadata": {},
   "source": [
    "# 23. Exceptions  \n",
    "\n",
    "try-except blocks are used to handle exceptions that are raised in a program by providing exceptions on what should happen if the defined type of error arises, instead of the program crashing."
   ]
  },
  {
   "cell_type": "code",
   "execution_count": null,
   "id": "22a4cb4d",
   "metadata": {},
   "outputs": [],
   "source": [
    "try:\n",
    "    age = int(input(\"Age:\"))\n",
    "    income = 20000\n",
    "    risk = income/age\n",
    "    print(age)\n",
    "except ZeroDivisionError:\n",
    "    print(\"Age cannot be 0.\")\n",
    "except ValueError:\n",
    "    print(\"Invalid value\")"
   ]
  },
  {
   "cell_type": "markdown",
   "id": "f8886712",
   "metadata": {},
   "source": [
    "# OOP - Object Oriented Programming\n",
    "\n",
    "**Object (entity)** - A thing you want to store and process data about. (Car)  \n",
    "\n",
    "**Class** - A template for creating an object. It defines attributes/properties (describe the object) (model, colour) and operations/methods (actions that can be performed by the object) (start(), stop(), move()) of an object.   \n",
    "Object is an instance of a class. Once an object is created from a class, the properties can be assigned values (model = 2023, colour'\"blue\",). These values are called \"state' of the object. \n",
    "\n",
    "**Abstraction** - Through the process of abstraction we hide all but the relevant data about an object in order to reduce complexity and increase efficiency. In the same way that abstraction sometimes works in art, the object that remains is a representation of the original, with unwanted detail omitted.  \n",
    "Abstraction is like simplifying complex things. It allows you to focus on essential features while hiding unnecessary details. In OOP, you create abstract classes or interfaces that define a set of methods without providing the implementation. Concrete classes then inherit from these abstract classes or interfaces and provide the specific implementation. This way, you can work with the abstract classes or interfaces, without worrying about the implementation details of the concrete classes  \n",
    "\n",
    "**Encapsulation** - bundling of data with the methods that operate on that data. Encapsulation is used to hide the values or state of a structured data object inside a class, preventing unauthorized parties' direct access to them. Encapsulation allows you to hide specific information and control access to the object's internal state.\n",
    "Imagine you have a box that holds different items. Encapsulation is like that box, where you group together related data and functions into a single unit called an object. The object keeps the data safe and provides methods to interact with that data. It's like having a box that not only stores things but also has instructions on how to use them.  \n",
    "\n",
    "Abstraction is a design level process and it is used to reduce the complexity at the designing stage of a project. Encapsulation is an implementation level process, and it is used to provide privacy and maintain control over the transparency of data at the implementation stage of a project.  \n",
    "\n",
    "**Inheritance** - In object-oriented programming (OOP), inheritance is a mechanism that allows a class to inherit properties and behaviors from another class. It is a fundamental concept in OOP that promotes code reuse and establishes relationships between classes.\n",
    "Inheritance is like a family tree. It allows you to create new objects based on existing objects, inheriting their characteristics. Think of a base object as a parent and the new object as a child. The child object automatically gets all the traits and behaviors from its parent, which saves time and promotes code reuse.  \n",
    " \n",
    "**Polymorphism** - Polymorphism is a feature of object-oriented programming languages that allows a specific routine to use variables of different types at different times. Polymorphism in programming gives a program the ability to redefine methods for derived classes.\n",
    "Polymorphism means having multiple forms. In OOP, it refers to the ability of objects to take on different forms or behaviors. Let's say you have a \"Shape\" object with a method called \"draw.\" Different types of shapes, like circles or squares, can inherit from the \"Shape\" object and implement their own version of the \"draw\" method. When you call the \"draw\" method, each shape will draw itself differently, but you can treat them all as \"Shape\" objects."
   ]
  },
  {
   "cell_type": "markdown",
   "id": "961ff2f4",
   "metadata": {},
   "source": [
    "# 24. Classes"
   ]
  },
  {
   "cell_type": "code",
   "execution_count": null,
   "id": "466ab718",
   "metadata": {},
   "outputs": [],
   "source": [
    "class Point:         # Nomenclature - Class names start with a capital letter unlike functions, methods & variables\n",
    "    def move(self):   # self - magic word\n",
    "        print(\"move\")\n",
    "        \n",
    "    def draw(self):\n",
    "        print(\"draw\")\n",
    "\n",
    "\n",
    "point1 = Point()    # object 1 created from class Point blueprint\n",
    "\n",
    "point1.x = 10       # attributes created and assigned values to\n",
    "point1.y = 20       # these specific values of attributes make this instance of class Point - point1\n",
    "print(point1.x)\n",
    "\n",
    "point1.draw()\n",
    "point1.move()\n",
    "\n",
    "point2 = Point()    # this object is different from point1 and does not share the same attribute values\n",
    "point2.x = 1\n",
    "point2.y = 2\n",
    "print(point2.x + point2.y)\n",
    "\n",
    "point2.move()      # but since both objects, point1 and point2 are made from the same class Point, they can perform the same functions"
   ]
  },
  {
   "cell_type": "markdown",
   "id": "c9c3d942",
   "metadata": {},
   "source": [
    "# 25. Contructors\n",
    "\n",
    "The constructor is a method that is called when an object is created. This method is defined in the class and can be used to initialize basic variables."
   ]
  },
  {
   "cell_type": "code",
   "execution_count": 1,
   "id": "49ac2538",
   "metadata": {},
   "outputs": [
    {
     "name": "stdout",
     "output_type": "stream",
     "text": [
      "12\n",
      "run\n"
     ]
    }
   ],
   "source": [
    "class Travel:\n",
    "    def __init__(self, x, y):     # init - short for initialize - __init__() is a contructor\n",
    "        self.x = x                # initialize x\n",
    "        self.y = y                # initialize y\n",
    "        \n",
    "    def run(self):\n",
    "        print(\"run\")\n",
    "        \n",
    "    def walk(self):\n",
    "        print(\"walk\")\n",
    "        \n",
    "        \n",
    "travel1 = Travel(12, 14)\n",
    "print(travel1.x)\n",
    "travel1.run()"
   ]
  },
  {
   "cell_type": "code",
   "execution_count": null,
   "id": "4072bbc1",
   "metadata": {},
   "outputs": [],
   "source": [
    "class Person:\n",
    "    def __init__(self, name):\n",
    "        self.name = name\n",
    "      \n",
    "    def talk (self):\n",
    "        print(f'{self.name} talking...')\n",
    "        \n",
    "\n",
    "person1 = Person('John')\n",
    "person1.talk()"
   ]
  },
  {
   "cell_type": "code",
   "execution_count": null,
   "id": "b7b257d2",
   "metadata": {},
   "outputs": [],
   "source": [
    "# INHERITANCE\n",
    "\n",
    "class Mammals():\n",
    "    def walk(self):\n",
    "        print(\"walk\")\n",
    "        \n",
    "        \n",
    "class Dog(Mammals):\n",
    "    def bark(self):\n",
    "        print(\"bark\")\n",
    "        \n",
    "        \n",
    "class Cat(Mammals):\n",
    "    def meow(self):\n",
    "        print(\"meow\")\n",
    "        \n",
    "        \n",
    "dog1 = Dog()\n",
    "dog1.walk()\n",
    "dog1.bark()\n",
    "\n",
    "cat1 = Cat()\n",
    "cat1.walk()\n",
    "cat1.meow()"
   ]
  },
  {
   "cell_type": "markdown",
   "id": "eca9547e",
   "metadata": {},
   "source": [
    "# 26. Modules\n",
    "\n",
    "## Generating random values"
   ]
  },
  {
   "cell_type": "code",
   "execution_count": null,
   "id": "56ba029c",
   "metadata": {},
   "outputs": [],
   "source": [
    "import random"
   ]
  },
  {
   "cell_type": "code",
   "execution_count": null,
   "id": "89af3e96",
   "metadata": {},
   "outputs": [],
   "source": [
    "for x in range(3):\n",
    "    print(random.random())         # .random() generates values between 0 and 1\n",
    "    print(random.randint(10,20))"
   ]
  },
  {
   "cell_type": "markdown",
   "id": "ffb6ba18",
   "metadata": {},
   "source": [
    "## Randomly chosen leader"
   ]
  },
  {
   "cell_type": "code",
   "execution_count": null,
   "id": "c9c619c6",
   "metadata": {},
   "outputs": [],
   "source": [
    "list = ['A', 'B', 'C', 'D']\n",
    "leader = random.choice(list)\n",
    "print(leader)"
   ]
  },
  {
   "cell_type": "code",
   "execution_count": null,
   "id": "7c61d785",
   "metadata": {},
   "outputs": [],
   "source": [
    "class Dice1():\n",
    "    def roll(self):\n",
    "        options = ( (1,1), (1,2), (1,3), (1,4), (1,5), (1,6), (2,1), (2,2), (2,3), (2,4), (2,5), (2,6))\n",
    "        result = random.choice(options)\n",
    "        print(result)\n",
    "        \n",
    "\n",
    "event1 = Dice1()\n",
    "event1.roll() \n",
    "\n",
    "\n",
    "class Dice2():\n",
    "    def roll(self):\n",
    "        first = random.randint(1,6)\n",
    "        second = random.randint(1,6)\n",
    "        return(first,second)\n",
    "\n",
    "\n",
    "event2 = Dice2()\n",
    "event2.roll() \n"
   ]
  },
  {
   "cell_type": "markdown",
   "id": "027eacb0",
   "metadata": {},
   "source": [
    "# 27. Numpy"
   ]
  },
  {
   "cell_type": "code",
   "execution_count": null,
   "id": "b115f61e",
   "metadata": {},
   "outputs": [],
   "source": []
  }
 ],
 "metadata": {
  "kernelspec": {
   "display_name": "Python 3 (ipykernel)",
   "language": "python",
   "name": "python3"
  },
  "language_info": {
   "codemirror_mode": {
    "name": "ipython",
    "version": 3
   },
   "file_extension": ".py",
   "mimetype": "text/x-python",
   "name": "python",
   "nbconvert_exporter": "python",
   "pygments_lexer": "ipython3",
   "version": "3.11.1"
  }
 },
 "nbformat": 4,
 "nbformat_minor": 5
}
